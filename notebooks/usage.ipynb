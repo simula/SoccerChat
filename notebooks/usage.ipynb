{
  "nbformat": 4,
  "nbformat_minor": 0,
  "metadata": {
    "colab": {
      "machine_shape": "hm",
      "gpuType": "T4",
      "provenance": []
    },
    "accelerator": "GPU",
    "kaggle": {
      "accelerator": "gpu"
    },
    "language_info": {
      "name": "python"
    },
    "kernelspec": {
      "name": "python3",
      "display_name": "Python 3"
    }
  },
  "cells": [
    {
      "cell_type": "markdown",
      "source": [
        "## Local Inference on GPU\n",
        "Model page: https://huggingface.co/SimulaMet/SoccerChat-qwen2-vl-7b\n"
      ],
      "metadata": {
        "id": "_pCHoZ3fwxxv"
      }
    },
    {
      "cell_type": "code",
      "source": [
        "!pip install ms-swift bitsandbytes decord qwen_vl_utils==0.0.11"
      ],
      "metadata": {
        "id": "_g5R65GdxmEd"
      },
      "execution_count": null,
      "outputs": []
    },
    {
      "cell_type": "code",
      "source": [
        "import os\n",
        "import torch\n",
        "from swift.llm import PtEngine, RequestConfig, InferRequest\n",
        "from transformers import  BitsAndBytesConfig"
      ],
      "metadata": {
        "id": "cKmSLgG2xXps"
      },
      "execution_count": 1,
      "outputs": []
    },
    {
      "cell_type": "code",
      "source": [
        "# quantized for free T4 in Colab; paper reports performance on unquantized model.\n",
        "bnb_config = BitsAndBytesConfig(\n",
        "    load_in_4bit=True,\n",
        "    bnb_4bit_quant_type=\"nf4\",         # best accuracy for 4-bit\n",
        "    bnb_4bit_use_double_quant=True,    # better compression\n",
        "    bnb_4bit_compute_dtype=torch.float16\n",
        ")\n",
        "\n",
        "# model was trained in this setting\n",
        "os.environ[\"FPS_MIN_FRAMES\"]=\"24\"\n",
        "os.environ[\"FPS_MAX_FRAMES\"]=\"24\"\n",
        "os.environ[\"VIDEO_MAX_PIXELS\"]=\"100352\""
      ],
      "metadata": {
        "id": "ah3HO_Smwxxw"
      },
      "execution_count": 2,
      "outputs": []
    },
    {
      "cell_type": "code",
      "source": [
        "\n",
        "engine = PtEngine(adapters=[ \"SimulaMet/SoccerChat-qwen2-vl-7b\"], quantization_config = bnb_config, attn_impl=\"sdpa\", max_batch_size=1, use_hf=True, model_id_or_path=\"Qwen/Qwen2-VL-7B-Instruct\", )"
      ],
      "metadata": {
        "id": "JgGtPh9MxVV8",
        "outputId": "963d6587-1eea-441c-b393-e02e1ed359a6",
        "colab": {
          "base_uri": "https://localhost:8080/",
          "height": 1000,
          "referenced_widgets": [
            "5b1eb09e24a64ee8bcb1fc0919393677",
            "2f2cb3131ba141be8932c1f385d6d870",
            "481da89556e14e05afcf7e9958c055a5",
            "c11f9b5f0a76432fa86a8317a58533d0",
            "106899b71a0a4a69aa4882f9e175039a",
            "da2f194396504548a4b8672118f23e3c",
            "57ffaa3963f34ce496b6e68bb8f17da4",
            "ff12ec090f784592a1e7ef2e2fd35bdc",
            "3ab5e02bfbed4d668b9b3cd6df296f25",
            "193b299890904acf9665760e1446198b",
            "5cf78606efc7436dbfee619e2a825a24",
            "ee06078b4ba848f2873adb7816b1332b",
            "84b83d47fbf046b3a908a8fc7f5b3705",
            "6de52674f59c47ca99975f9c48ac6757",
            "8a0af70fe43b41f490025b7962230aa5",
            "ae5acc2dab3c409eb0208b96631e2cfd",
            "b48393c751aa42aa99f603b47d626334",
            "27c48a6bf74f4ee89276d5c6197b6ace",
            "47b8015ed53948419b8e18a0cd0a8d89",
            "fc7769501d5b46acb19e65a66a006067",
            "8f3741950689477196c7680d7a0696db",
            "c038b7e8f26b40519b2182801b4e67a9",
            "ce5479bc24ca431081ae571c7ef18fad",
            "c146a7dd12fd49c6bc060b92f774a570",
            "ec350b84cf4241088340a197b4b2eaa9",
            "ae7f1a5d3bc14825a033e49462c2b081",
            "f89300dc98e14bfab01b166e734e79ec",
            "64ac5977a646490d9b2a3661aa48d451",
            "e90430eb37724e3da9a86d63aa45d9a3",
            "4ffa6633fb004071966aa3cba0c9673b",
            "ef727059339240d180501eafd2bd3bd4",
            "af617ce51f614db58906758399255860",
            "25c0d31f3a494c2197820b0ac9b83cda",
            "419dcfaff1044d69bf314ce68c3f0c25",
            "6df45fad8fa94c3686dd24b7d7c73766",
            "8bf0d7d31cb442aa9df154f898247906",
            "ff2b4d8a4783493ab6ebccaf68c81422",
            "f7f1c7ad73a742989c8862f32100ddb5",
            "ff3ffa3e42b142a38dde2df8137aeea1",
            "c867c0abd07e4a62b53b9b0ae303f276",
            "2d9ed4ac2ebe4bb4a4ac10c46e6484fa",
            "36c3007cc2484dc1b65620c797171de6",
            "1d05ad77d0b04d028245875af9af40ac",
            "4f5fb4aa46654bf79cb7f63d6211a1b5",
            "24342edb0da84348aaad228e9006a988",
            "cc40864fe1f6403ab1e876c648ca4b3f",
            "f7c7dcf7505142919bac44ab90d56f99",
            "7ca80c492cb24829bbd2ce382b1e9f87",
            "413d9115a578489e82b1984a04c9e133",
            "9943889341174e19b0a287e64d3ffadf",
            "a8de82690e5b4dee8f053a52e4db1056",
            "9be757e95ecb4063998fd030efe527b4",
            "7176128910f34269a3caef2bf0b7e269",
            "bd5825909b0940eda1118b57f929ab59",
            "3bb2fbfc8ab541099f4341b6c7563d2b",
            "e9c3d630876544d69b069ab46e0536f9",
            "3e74ec5427f04230a9a4c3017248394f",
            "d77888ff3f804055a39e06b3a9729a4f",
            "8cc1d429f9bc4265887909b3bb6364d5",
            "d0b68ded4e494847b043ba1dfea70b73",
            "b3ddbc7b1eab41cd9d5c9eeab8f53597",
            "89d22655f76c46dca2f84709813e9d56",
            "07a2f3ace61f4406b5b937b1773b7db3",
            "4851043c28e54150ba049996a6de1c7c",
            "b9acb515ddfe4a2f89b5b292aa2b96e6",
            "62df2871e9684042ba34f63245c0dae6",
            "15f990341e1045fcba5d1afd78c62b58",
            "95405d405fe748708b2f39d4f43cdff6",
            "b506abe6ce0b40708188b9c116cb4e05",
            "51adfb5a9184438eb01e960007a968d3",
            "502dc5b3779d4247b565c34bee8ed2c5",
            "c77c0fc453ed4be9b8188024c5603762",
            "4c4db18ca0a840638401c1631a24ecaf",
            "db11960169de4900867eac7f24138f4f",
            "82d519d1ffbd4868842dcfe769a07f29",
            "c171ad16bd8b4940b84b98f914b718bb",
            "fd889dab3cde41c3bf97f3e89317767a",
            "00777a0d7358411ebd3a0f29eac3a789",
            "91feb094bb0e435a89537a10284972bb",
            "de80c87aff074fc5af23826cc2bd93db",
            "76160bee79be4c8cb7dc11372134a559",
            "0dcdae620d6e4f948bb179920c3742fc",
            "d0940f959ce441c58e861fcb8809c0d6",
            "dfec61ee6e4149a5acd64987a00cb44e",
            "eebd5ea207d0453698ed84f75d9fcfc0",
            "5a6f5e5a7ae94371b78155291d937c0e",
            "9563792d3dcc4b378f63c4c8b2586a74",
            "5df3349cdd9b436b8941dbf379fccdca",
            "c0df2ec02ecf45aa827a985181f9e6f4",
            "0889d0023e6a4d678b39d8a8154e4944",
            "cb002b246bde46ddbe13ba5f310dc490",
            "91b7adf391a44a37bb91adc35499834c",
            "a3bba2c8a601481a8cbdb20ce55ac85c",
            "f06e7d0e7f3e4e40a7553e7d24604c46",
            "dd6f4a7e5250413ca1b9d9602f088884",
            "b62ff3c5b25e4b8d8299fa789c3a4c04",
            "52a316d68d01498c8d3d348415d5849e",
            "ef17b6c41bb14ca48dabb86a2de32a7a",
            "65fa5ed5c31d41be8741317b9546323c",
            "aa4ac688cd004365a4b927440e13f50e",
            "9bd4891c9bc143cab0f4119e87c19f65",
            "ac1bfcbfa56b4686a597a6baa98dcc9a",
            "dbe5869d4ef847dcab70db90a9fa48dc",
            "5c1235c261d74b1bb05b0cde3722bf95",
            "b0bb2c9cd4414d1d92f48529b61e90a0",
            "1808213b1fcd4142a652303f11881576",
            "c9d126e5ef5b4fbc8fe519dcce5c069f",
            "ab519abceb4d429d8f9a85d3731df7f3",
            "989154d79a164db5b2551fe95839b887",
            "1b0bdf3cae654fa7a310dcddf2899a63",
            "7291e95992d749dfa3a138b727d1d2c0",
            "a9831072ea1c4859b8c5ab35850120ba",
            "3e6e0656d7df4427b942fd0937e7ecdd",
            "6747d6a142c549268889b73d96146017",
            "9838be6b999f4d19921f611c24d97093",
            "47519a08d7684efc90c4da3a175dea63",
            "f6b7961aa1db48db826ddfaf5eb36476",
            "b38fec810d3e4424a3d714c27f7c3713",
            "bbc99a9fdde94737bc8b8109eae9a921",
            "db319c2d9a7945a9b5ad0d8fd2115bea",
            "3b78c2ae8fd0427fb221131e5a572b24",
            "36bcb12628664bdb82229d87857c7df1",
            "a5daa2244c3f4117a1adb378d7332c3b",
            "f096e74a18884dda8381fbde84453d15",
            "0ecca242902343d58b836b4c2dedeeb0",
            "90d6809bebc447b0bf91875276b6b80e",
            "3fc4d32e85464924b4de6349cdab2b79",
            "c9eb6eb9931a4248b1a63470b748671d",
            "4afa2f214f1d4754af3602d53b9602ff",
            "aa026f9adc464cf8ac2a0a403fcf3128",
            "1154e8d4f1314481805087cf479354c3",
            "936a93e6b7934080a355319ba7c85cf8",
            "3f60518b4d2a4417a1785e58985fe87c",
            "da3072cb852548aeb8297e1a2ffc43e8",
            "13d2bd49cd08499bb611f10d57230370",
            "e3a2113adddb40d28ab52d39f26aea2e",
            "57bbd2d4429841a0b4ef7fbb6a0b4d27",
            "7dec5f88b53a4e1aa7c7a30c890e92be",
            "192197b3faed439f8bf7af6862fda977",
            "67084a3a6f7649f38cfad988bff45c8b",
            "0232e9cdb53741dda362d6b64a0e0315",
            "30422fcf2932412fa76eb10b08a8200b",
            "1838962aa2b846669fa8ff4ca3415eda",
            "b3da15f2209d4f29b049045a48dffeb5",
            "303196ec95a445cbb365a393910f9fba",
            "ef3b9d18bfc04a748b5a9c00787e329f",
            "e77a00ed554a4145889549d908f9582d",
            "ee384cb8d44742caa50e44feca5d2da4",
            "9e631e2580c54f0b82c106532f108ca7",
            "2c1773751a9a4828aedaac0441a91467",
            "affb194cd92a445bb14f2684c44258e2",
            "0336242d0ad4405db47ff73a23c2954c",
            "8f6895a7ec7d4ead9d540df4bd81c6a4",
            "84631d7c28bf4437952956f1b3f9c59f",
            "284545c7f4e8444d8f45a6d392ee78c6",
            "91df593584d0477fa0c6f9fbeb311087",
            "f8864571f35f4faeb5973fe2cf27848a",
            "68c7218c2367477a9d18e3394ccd7457",
            "0e48fa08195049ac80600b01d7862821",
            "0e62cc5977fd484481b5e78145004223",
            "16a636aa3d0f4996885e6fb31b837bae",
            "7602881cd43d4bdfa81acd5e5edf4bcd",
            "fdec6cbe6a1d4dab83ce434658de3750",
            "544bbedb5bb443b7b163cad79a7b86c6",
            "9643f83dd4ef42a285f1c61e00b649d2",
            "e40e42ce4e2942e88021238fcb50fc21",
            "8dba0704931446f89dc5494b1c15e68a",
            "8d7474da989d4259893889ba729c5297",
            "a74906cde8a04e17a15337f6f76b4e24",
            "4d511d70b2984d64986d55bc231393d1",
            "8823a30c34234285870310843f4d0be5",
            "3c906e2b9a974b87a190c40d8504f939",
            "6360ce41676041aea6f5d362f4320fa7",
            "b99463c371384e0a8657a0c34e20005e",
            "fadf0562e36046889ac6ab0ded08b719",
            "b54bd87bcf42414999e4acd9e874e1a4"
          ]
        }
      },
      "execution_count": 3,
      "outputs": [
        {
          "output_type": "stream",
          "name": "stderr",
          "text": [
            "[INFO:swift] Downloading the model from HuggingFace Hub, model_id: Qwen/Qwen2-VL-7B-Instruct\n",
            "/usr/local/lib/python3.12/dist-packages/huggingface_hub/utils/_auth.py:94: UserWarning: \n",
            "The secret `HF_TOKEN` does not exist in your Colab secrets.\n",
            "To authenticate with the Hugging Face Hub, create a token in your settings tab (https://huggingface.co/settings/tokens), set it as secret in your Google Colab and restart your session.\n",
            "You will be able to reuse this secret in all of your notebooks.\n",
            "Please note that authentication is recommended but still optional to access public models or datasets.\n",
            "  warnings.warn(\n"
          ]
        },
        {
          "output_type": "display_data",
          "data": {
            "text/plain": [
              "Fetching 17 files:   0%|          | 0/17 [00:00<?, ?it/s]"
            ],
            "application/vnd.jupyter.widget-view+json": {
              "version_major": 2,
              "version_minor": 0,
              "model_id": "5b1eb09e24a64ee8bcb1fc0919393677"
            }
          },
          "metadata": {}
        },
        {
          "output_type": "stream",
          "name": "stderr",
          "text": [
            "[INFO:swift] Loading the model using model_dir: /root/.cache/huggingface/hub/models--Qwen--Qwen2-VL-7B-Instruct/snapshots/eed13092ef92e448dd6875b2a00151bd3f7db0ac\n",
            "`torch_dtype` is deprecated! Use `dtype` instead!\n",
            "[INFO:swift] Setting torch_dtype: torch.bfloat16\n",
            "The image processor of type `Qwen2VLImageProcessor` is now loaded as a fast processor by default, even if the model checkpoint was saved with a slow processor. This is a breaking change and may produce slightly different outputs. To continue using the slow processor, instantiate this class with `use_fast=False`. Note that this behavior will be extended to all models in a future release.\n",
            "[INFO:swift] attn_impl: sdpa\n",
            "[INFO:swift] model_kwargs: {'device_map': 'cuda:0', 'quantization_config': BitsAndBytesConfig {\n",
            "  \"_load_in_4bit\": true,\n",
            "  \"_load_in_8bit\": false,\n",
            "  \"bnb_4bit_compute_dtype\": \"float16\",\n",
            "  \"bnb_4bit_quant_storage\": \"uint8\",\n",
            "  \"bnb_4bit_quant_type\": \"nf4\",\n",
            "  \"bnb_4bit_use_double_quant\": true,\n",
            "  \"llm_int8_enable_fp32_cpu_offload\": false,\n",
            "  \"llm_int8_has_fp16_weight\": false,\n",
            "  \"llm_int8_skip_modules\": null,\n",
            "  \"llm_int8_threshold\": 6.0,\n",
            "  \"load_in_4bit\": true,\n",
            "  \"load_in_8bit\": false,\n",
            "  \"quant_method\": \"bitsandbytes\"\n",
            "}\n",
            "}\n",
            "`torch_dtype` is deprecated! Use `dtype` instead!\n"
          ]
        },
        {
          "output_type": "display_data",
          "data": {
            "text/plain": [
              "Loading checkpoint shards:   0%|          | 0/5 [00:00<?, ?it/s]"
            ],
            "application/vnd.jupyter.widget-view+json": {
              "version_major": 2,
              "version_minor": 0,
              "model_id": "ee06078b4ba848f2873adb7816b1332b"
            }
          },
          "metadata": {}
        },
        {
          "output_type": "stream",
          "name": "stderr",
          "text": [
            "[INFO:swift] Setting image_factor: 28. You can adjust this hyperparameter through the environment variable: `IMAGE_FACTOR`.\n",
            "[INFO:swift] Setting min_pixels: 3136. You can adjust this hyperparameter through the environment variable: `MIN_PIXELS`.\n",
            "[INFO:swift] Setting max_pixels: 12845056. You can adjust this hyperparameter through the environment variable: `MAX_PIXELS`.\n",
            "[INFO:swift] Setting max_ratio: 200. You can adjust this hyperparameter through the environment variable: `MAX_RATIO`.\n",
            "[INFO:swift] Setting video_min_pixels: 100352. You can adjust this hyperparameter through the environment variable: `VIDEO_MIN_PIXELS`.\n",
            "[INFO:swift] Using environment variable `VIDEO_MAX_PIXELS`, Setting video_max_pixels: 100352.\n",
            "[INFO:swift] Using environment variable `VIDEO_TOTAL_PIXELS`, Setting video_total_pixels: 90316800.\n",
            "[INFO:swift] Setting frame_factor: 2. You can adjust this hyperparameter through the environment variable: `FRAME_FACTOR`.\n",
            "[INFO:swift] Setting fps: 2.0. You can adjust this hyperparameter through the environment variable: `FPS`.\n",
            "[INFO:swift] Using environment variable `FPS_MIN_FRAMES`, Setting fps_min_frames: 24.\n",
            "[INFO:swift] Using environment variable `FPS_MAX_FRAMES`, Setting fps_max_frames: 24.\n",
            "[INFO:swift] Downloading the model from HuggingFace Hub, model_id: SimulaMet/SoccerChat-qwen2-vl-7b\n"
          ]
        },
        {
          "output_type": "display_data",
          "data": {
            "text/plain": [
              "Fetching 13 files:   0%|          | 0/13 [00:00<?, ?it/s]"
            ],
            "application/vnd.jupyter.widget-view+json": {
              "version_major": 2,
              "version_minor": 0,
              "model_id": "ce5479bc24ca431081ae571c7ef18fad"
            }
          },
          "metadata": {}
        },
        {
          "output_type": "display_data",
          "data": {
            "text/plain": [
              "adapter_model.safetensors:   0%|          | 0.00/40.4M [00:00<?, ?B/s]"
            ],
            "application/vnd.jupyter.widget-view+json": {
              "version_major": 2,
              "version_minor": 0,
              "model_id": "419dcfaff1044d69bf314ce68c3f0c25"
            }
          },
          "metadata": {}
        },
        {
          "output_type": "display_data",
          "data": {
            "text/plain": [
              ".gitattributes: 0.00B [00:00, ?B/s]"
            ],
            "application/vnd.jupyter.widget-view+json": {
              "version_major": 2,
              "version_minor": 0,
              "model_id": "24342edb0da84348aaad228e9006a988"
            }
          },
          "metadata": {}
        },
        {
          "output_type": "display_data",
          "data": {
            "text/plain": [
              "config.json: 0.00B [00:00, ?B/s]"
            ],
            "application/vnd.jupyter.widget-view+json": {
              "version_major": 2,
              "version_minor": 0,
              "model_id": "e9c3d630876544d69b069ab46e0536f9"
            }
          },
          "metadata": {}
        },
        {
          "output_type": "display_data",
          "data": {
            "text/plain": [
              "README.md: 0.00B [00:00, ?B/s]"
            ],
            "application/vnd.jupyter.widget-view+json": {
              "version_major": 2,
              "version_minor": 0,
              "model_id": "15f990341e1045fcba5d1afd78c62b58"
            }
          },
          "metadata": {}
        },
        {
          "output_type": "display_data",
          "data": {
            "text/plain": [
              "generation_config.json:   0%|          | 0.00/219 [00:00<?, ?B/s]"
            ],
            "application/vnd.jupyter.widget-view+json": {
              "version_major": 2,
              "version_minor": 0,
              "model_id": "00777a0d7358411ebd3a0f29eac3a789"
            }
          },
          "metadata": {}
        },
        {
          "output_type": "display_data",
          "data": {
            "text/plain": [
              "additional_config.json:   0%|          | 0.00/67.0 [00:00<?, ?B/s]"
            ],
            "application/vnd.jupyter.widget-view+json": {
              "version_major": 2,
              "version_minor": 0,
              "model_id": "c0df2ec02ecf45aa827a985181f9e6f4"
            }
          },
          "metadata": {}
        },
        {
          "output_type": "display_data",
          "data": {
            "text/plain": [
              "configuration.json:   0%|          | 0.00/357 [00:00<?, ?B/s]"
            ],
            "application/vnd.jupyter.widget-view+json": {
              "version_major": 2,
              "version_minor": 0,
              "model_id": "aa4ac688cd004365a4b927440e13f50e"
            }
          },
          "metadata": {}
        },
        {
          "output_type": "display_data",
          "data": {
            "text/plain": [
              "adapter_config.json:   0%|          | 0.00/665 [00:00<?, ?B/s]"
            ],
            "application/vnd.jupyter.widget-view+json": {
              "version_major": 2,
              "version_minor": 0,
              "model_id": "7291e95992d749dfa3a138b727d1d2c0"
            }
          },
          "metadata": {}
        },
        {
          "output_type": "display_data",
          "data": {
            "text/plain": [
              "training_args.bin:   0%|          | 0.00/10.3k [00:00<?, ?B/s]"
            ],
            "application/vnd.jupyter.widget-view+json": {
              "version_major": 2,
              "version_minor": 0,
              "model_id": "36bcb12628664bdb82229d87857c7df1"
            }
          },
          "metadata": {}
        },
        {
          "output_type": "display_data",
          "data": {
            "text/plain": [
              "latest:   0%|          | 0.00/15.0 [00:00<?, ?B/s]"
            ],
            "application/vnd.jupyter.widget-view+json": {
              "version_major": 2,
              "version_minor": 0,
              "model_id": "3f60518b4d2a4417a1785e58985fe87c"
            }
          },
          "metadata": {}
        },
        {
          "output_type": "display_data",
          "data": {
            "text/plain": [
              "trainer_state.json: 0.00B [00:00, ?B/s]"
            ],
            "application/vnd.jupyter.widget-view+json": {
              "version_major": 2,
              "version_minor": 0,
              "model_id": "b3da15f2209d4f29b049045a48dffeb5"
            }
          },
          "metadata": {}
        },
        {
          "output_type": "display_data",
          "data": {
            "text/plain": [
              "sft_args.json: 0.00B [00:00, ?B/s]"
            ],
            "application/vnd.jupyter.widget-view+json": {
              "version_major": 2,
              "version_minor": 0,
              "model_id": "284545c7f4e8444d8f45a6d392ee78c6"
            }
          },
          "metadata": {}
        },
        {
          "output_type": "display_data",
          "data": {
            "text/plain": [
              "zero_to_fp32.py: 0.00B [00:00, ?B/s]"
            ],
            "application/vnd.jupyter.widget-view+json": {
              "version_major": 2,
              "version_minor": 0,
              "model_id": "e40e42ce4e2942e88021238fcb50fc21"
            }
          },
          "metadata": {}
        },
        {
          "output_type": "stream",
          "name": "stderr",
          "text": [
            "[INFO:swift] Loading the model using model_dir: /root/.cache/huggingface/hub/models--SimulaMet--SoccerChat-qwen2-vl-7b/snapshots/ccbfced151749232f6f538417d0437509d362a28\n",
            "/usr/local/lib/python3.12/dist-packages/peft/peft_model.py:585: UserWarning: Found missing adapter keys while loading the checkpoint: ['base_model.model.model.visual.blocks.0.attn.qkv.lora_A.default.weight', 'base_model.model.model.visual.blocks.0.attn.qkv.lora_B.default.weight', 'base_model.model.model.visual.blocks.0.attn.proj.lora_A.default.weight', 'base_model.model.model.visual.blocks.0.attn.proj.lora_B.default.weight', 'base_model.model.model.visual.blocks.0.mlp.fc1.lora_A.default.weight', 'base_model.model.model.visual.blocks.0.mlp.fc1.lora_B.default.weight', 'base_model.model.model.visual.blocks.0.mlp.fc2.lora_A.default.weight', 'base_model.model.model.visual.blocks.0.mlp.fc2.lora_B.default.weight', 'base_model.model.model.visual.blocks.1.attn.qkv.lora_A.default.weight', 'base_model.model.model.visual.blocks.1.attn.qkv.lora_B.default.weight', 'base_model.model.model.visual.blocks.1.attn.proj.lora_A.default.weight', 'base_model.model.model.visual.blocks.1.attn.proj.lora_B.default.weight', 'base_model.model.model.visual.blocks.1.mlp.fc1.lora_A.default.weight', 'base_model.model.model.visual.blocks.1.mlp.fc1.lora_B.default.weight', 'base_model.model.model.visual.blocks.1.mlp.fc2.lora_A.default.weight', 'base_model.model.model.visual.blocks.1.mlp.fc2.lora_B.default.weight', 'base_model.model.model.visual.blocks.2.attn.qkv.lora_A.default.weight', 'base_model.model.model.visual.blocks.2.attn.qkv.lora_B.default.weight', 'base_model.model.model.visual.blocks.2.attn.proj.lora_A.default.weight', 'base_model.model.model.visual.blocks.2.attn.proj.lora_B.default.weight', 'base_model.model.model.visual.blocks.2.mlp.fc1.lora_A.default.weight', 'base_model.model.model.visual.blocks.2.mlp.fc1.lora_B.default.weight', 'base_model.model.model.visual.blocks.2.mlp.fc2.lora_A.default.weight', 'base_model.model.model.visual.blocks.2.mlp.fc2.lora_B.default.weight', 'base_model.model.model.visual.blocks.3.attn.qkv.lora_A.default.weight', 'base_model.model.model.visual.blocks.3.attn.qkv.lora_B.default.weight', 'base_model.model.model.visual.blocks.3.attn.proj.lora_A.default.weight', 'base_model.model.model.visual.blocks.3.attn.proj.lora_B.default.weight', 'base_model.model.model.visual.blocks.3.mlp.fc1.lora_A.default.weight', 'base_model.model.model.visual.blocks.3.mlp.fc1.lora_B.default.weight', 'base_model.model.model.visual.blocks.3.mlp.fc2.lora_A.default.weight', 'base_model.model.model.visual.blocks.3.mlp.fc2.lora_B.default.weight', 'base_model.model.model.visual.blocks.4.attn.qkv.lora_A.default.weight', 'base_model.model.model.visual.blocks.4.attn.qkv.lora_B.default.weight', 'base_model.model.model.visual.blocks.4.attn.proj.lora_A.default.weight', 'base_model.model.model.visual.blocks.4.attn.proj.lora_B.default.weight', 'base_model.model.model.visual.blocks.4.mlp.fc1.lora_A.default.weight', 'base_model.model.model.visual.blocks.4.mlp.fc1.lora_B.default.weight', 'base_model.model.model.visual.blocks.4.mlp.fc2.lora_A.default.weight', 'base_model.model.model.visual.blocks.4.mlp.fc2.lora_B.default.weight', 'base_model.model.model.visual.blocks.5.attn.qkv.lora_A.default.weight', 'base_model.model.model.visual.blocks.5.attn.qkv.lora_B.default.weight', 'base_model.model.model.visual.blocks.5.attn.proj.lora_A.default.weight', 'base_model.model.model.visual.blocks.5.attn.proj.lora_B.default.weight', 'base_model.model.model.visual.blocks.5.mlp.fc1.lora_A.default.weight', 'base_model.model.model.visual.blocks.5.mlp.fc1.lora_B.default.weight', 'base_model.model.model.visual.blocks.5.mlp.fc2.lora_A.default.weight', 'base_model.model.model.visual.blocks.5.mlp.fc2.lora_B.default.weight', 'base_model.model.model.visual.blocks.6.attn.qkv.lora_A.default.weight', 'base_model.model.model.visual.blocks.6.attn.qkv.lora_B.default.weight', 'base_model.model.model.visual.blocks.6.attn.proj.lora_A.default.weight', 'base_model.model.model.visual.blocks.6.attn.proj.lora_B.default.weight', 'base_model.model.model.visual.blocks.6.mlp.fc1.lora_A.default.weight', 'base_model.model.model.visual.blocks.6.mlp.fc1.lora_B.default.weight', 'base_model.model.model.visual.blocks.6.mlp.fc2.lora_A.default.weight', 'base_model.model.model.visual.blocks.6.mlp.fc2.lora_B.default.weight', 'base_model.model.model.visual.blocks.7.attn.qkv.lora_A.default.weight', 'base_model.model.model.visual.blocks.7.attn.qkv.lora_B.default.weight', 'base_model.model.model.visual.blocks.7.attn.proj.lora_A.default.weight', 'base_model.model.model.visual.blocks.7.attn.proj.lora_B.default.weight', 'base_model.model.model.visual.blocks.7.mlp.fc1.lora_A.default.weight', 'base_model.model.model.visual.blocks.7.mlp.fc1.lora_B.default.weight', 'base_model.model.model.visual.blocks.7.mlp.fc2.lora_A.default.weight', 'base_model.model.model.visual.blocks.7.mlp.fc2.lora_B.default.weight', 'base_model.model.model.visual.blocks.8.attn.qkv.lora_A.default.weight', 'base_model.model.model.visual.blocks.8.attn.qkv.lora_B.default.weight', 'base_model.model.model.visual.blocks.8.attn.proj.lora_A.default.weight', 'base_model.model.model.visual.blocks.8.attn.proj.lora_B.default.weight', 'base_model.model.model.visual.blocks.8.mlp.fc1.lora_A.default.weight', 'base_model.model.model.visual.blocks.8.mlp.fc1.lora_B.default.weight', 'base_model.model.model.visual.blocks.8.mlp.fc2.lora_A.default.weight', 'base_model.model.model.visual.blocks.8.mlp.fc2.lora_B.default.weight', 'base_model.model.model.visual.blocks.9.attn.qkv.lora_A.default.weight', 'base_model.model.model.visual.blocks.9.attn.qkv.lora_B.default.weight', 'base_model.model.model.visual.blocks.9.attn.proj.lora_A.default.weight', 'base_model.model.model.visual.blocks.9.attn.proj.lora_B.default.weight', 'base_model.model.model.visual.blocks.9.mlp.fc1.lora_A.default.weight', 'base_model.model.model.visual.blocks.9.mlp.fc1.lora_B.default.weight', 'base_model.model.model.visual.blocks.9.mlp.fc2.lora_A.default.weight', 'base_model.model.model.visual.blocks.9.mlp.fc2.lora_B.default.weight', 'base_model.model.model.visual.blocks.10.attn.qkv.lora_A.default.weight', 'base_model.model.model.visual.blocks.10.attn.qkv.lora_B.default.weight', 'base_model.model.model.visual.blocks.10.attn.proj.lora_A.default.weight', 'base_model.model.model.visual.blocks.10.attn.proj.lora_B.default.weight', 'base_model.model.model.visual.blocks.10.mlp.fc1.lora_A.default.weight', 'base_model.model.model.visual.blocks.10.mlp.fc1.lora_B.default.weight', 'base_model.model.model.visual.blocks.10.mlp.fc2.lora_A.default.weight', 'base_model.model.model.visual.blocks.10.mlp.fc2.lora_B.default.weight', 'base_model.model.model.visual.blocks.11.attn.qkv.lora_A.default.weight', 'base_model.model.model.visual.blocks.11.attn.qkv.lora_B.default.weight', 'base_model.model.model.visual.blocks.11.attn.proj.lora_A.default.weight', 'base_model.model.model.visual.blocks.11.attn.proj.lora_B.default.weight', 'base_model.model.model.visual.blocks.11.mlp.fc1.lora_A.default.weight', 'base_model.model.model.visual.blocks.11.mlp.fc1.lora_B.default.weight', 'base_model.model.model.visual.blocks.11.mlp.fc2.lora_A.default.weight', 'base_model.model.model.visual.blocks.11.mlp.fc2.lora_B.default.weight', 'base_model.model.model.visual.blocks.12.attn.qkv.lora_A.default.weight', 'base_model.model.model.visual.blocks.12.attn.qkv.lora_B.default.weight', 'base_model.model.model.visual.blocks.12.attn.proj.lora_A.default.weight', 'base_model.model.model.visual.blocks.12.attn.proj.lora_B.default.weight', 'base_model.model.model.visual.blocks.12.mlp.fc1.lora_A.default.weight', 'base_model.model.model.visual.blocks.12.mlp.fc1.lora_B.default.weight', 'base_model.model.model.visual.blocks.12.mlp.fc2.lora_A.default.weight', 'base_model.model.model.visual.blocks.12.mlp.fc2.lora_B.default.weight', 'base_model.model.model.visual.blocks.13.attn.qkv.lora_A.default.weight', 'base_model.model.model.visual.blocks.13.attn.qkv.lora_B.default.weight', 'base_model.model.model.visual.blocks.13.attn.proj.lora_A.default.weight', 'base_model.model.model.visual.blocks.13.attn.proj.lora_B.default.weight', 'base_model.model.model.visual.blocks.13.mlp.fc1.lora_A.default.weight', 'base_model.model.model.visual.blocks.13.mlp.fc1.lora_B.default.weight', 'base_model.model.model.visual.blocks.13.mlp.fc2.lora_A.default.weight', 'base_model.model.model.visual.blocks.13.mlp.fc2.lora_B.default.weight', 'base_model.model.model.visual.blocks.14.attn.qkv.lora_A.default.weight', 'base_model.model.model.visual.blocks.14.attn.qkv.lora_B.default.weight', 'base_model.model.model.visual.blocks.14.attn.proj.lora_A.default.weight', 'base_model.model.model.visual.blocks.14.attn.proj.lora_B.default.weight', 'base_model.model.model.visual.blocks.14.mlp.fc1.lora_A.default.weight', 'base_model.model.model.visual.blocks.14.mlp.fc1.lora_B.default.weight', 'base_model.model.model.visual.blocks.14.mlp.fc2.lora_A.default.weight', 'base_model.model.model.visual.blocks.14.mlp.fc2.lora_B.default.weight', 'base_model.model.model.visual.blocks.15.attn.qkv.lora_A.default.weight', 'base_model.model.model.visual.blocks.15.attn.qkv.lora_B.default.weight', 'base_model.model.model.visual.blocks.15.attn.proj.lora_A.default.weight', 'base_model.model.model.visual.blocks.15.attn.proj.lora_B.default.weight', 'base_model.model.model.visual.blocks.15.mlp.fc1.lora_A.default.weight', 'base_model.model.model.visual.blocks.15.mlp.fc1.lora_B.default.weight', 'base_model.model.model.visual.blocks.15.mlp.fc2.lora_A.default.weight', 'base_model.model.model.visual.blocks.15.mlp.fc2.lora_B.default.weight', 'base_model.model.model.visual.blocks.16.attn.qkv.lora_A.default.weight', 'base_model.model.model.visual.blocks.16.attn.qkv.lora_B.default.weight', 'base_model.model.model.visual.blocks.16.attn.proj.lora_A.default.weight', 'base_model.model.model.visual.blocks.16.attn.proj.lora_B.default.weight', 'base_model.model.model.visual.blocks.16.mlp.fc1.lora_A.default.weight', 'base_model.model.model.visual.blocks.16.mlp.fc1.lora_B.default.weight', 'base_model.model.model.visual.blocks.16.mlp.fc2.lora_A.default.weight', 'base_model.model.model.visual.blocks.16.mlp.fc2.lora_B.default.weight', 'base_model.model.model.visual.blocks.17.attn.qkv.lora_A.default.weight', 'base_model.model.model.visual.blocks.17.attn.qkv.lora_B.default.weight', 'base_model.model.model.visual.blocks.17.attn.proj.lora_A.default.weight', 'base_model.model.model.visual.blocks.17.attn.proj.lora_B.default.weight', 'base_model.model.model.visual.blocks.17.mlp.fc1.lora_A.default.weight', 'base_model.model.model.visual.blocks.17.mlp.fc1.lora_B.default.weight', 'base_model.model.model.visual.blocks.17.mlp.fc2.lora_A.default.weight', 'base_model.model.model.visual.blocks.17.mlp.fc2.lora_B.default.weight', 'base_model.model.model.visual.blocks.18.attn.qkv.lora_A.default.weight', 'base_model.model.model.visual.blocks.18.attn.qkv.lora_B.default.weight', 'base_model.model.model.visual.blocks.18.attn.proj.lora_A.default.weight', 'base_model.model.model.visual.blocks.18.attn.proj.lora_B.default.weight', 'base_model.model.model.visual.blocks.18.mlp.fc1.lora_A.default.weight', 'base_model.model.model.visual.blocks.18.mlp.fc1.lora_B.default.weight', 'base_model.model.model.visual.blocks.18.mlp.fc2.lora_A.default.weight', 'base_model.model.model.visual.blocks.18.mlp.fc2.lora_B.default.weight', 'base_model.model.model.visual.blocks.19.attn.qkv.lora_A.default.weight', 'base_model.model.model.visual.blocks.19.attn.qkv.lora_B.default.weight', 'base_model.model.model.visual.blocks.19.attn.proj.lora_A.default.weight', 'base_model.model.model.visual.blocks.19.attn.proj.lora_B.default.weight', 'base_model.model.model.visual.blocks.19.mlp.fc1.lora_A.default.weight', 'base_model.model.model.visual.blocks.19.mlp.fc1.lora_B.default.weight', 'base_model.model.model.visual.blocks.19.mlp.fc2.lora_A.default.weight', 'base_model.model.model.visual.blocks.19.mlp.fc2.lora_B.default.weight', 'base_model.model.model.visual.blocks.20.attn.qkv.lora_A.default.weight', 'base_model.model.model.visual.blocks.20.attn.qkv.lora_B.default.weight', 'base_model.model.model.visual.blocks.20.attn.proj.lora_A.default.weight', 'base_model.model.model.visual.blocks.20.attn.proj.lora_B.default.weight', 'base_model.model.model.visual.blocks.20.mlp.fc1.lora_A.default.weight', 'base_model.model.model.visual.blocks.20.mlp.fc1.lora_B.default.weight', 'base_model.model.model.visual.blocks.20.mlp.fc2.lora_A.default.weight', 'base_model.model.model.visual.blocks.20.mlp.fc2.lora_B.default.weight', 'base_model.model.model.visual.blocks.21.attn.qkv.lora_A.default.weight', 'base_model.model.model.visual.blocks.21.attn.qkv.lora_B.default.weight', 'base_model.model.model.visual.blocks.21.attn.proj.lora_A.default.weight', 'base_model.model.model.visual.blocks.21.attn.proj.lora_B.default.weight', 'base_model.model.model.visual.blocks.21.mlp.fc1.lora_A.default.weight', 'base_model.model.model.visual.blocks.21.mlp.fc1.lora_B.default.weight', 'base_model.model.model.visual.blocks.21.mlp.fc2.lora_A.default.weight', 'base_model.model.model.visual.blocks.21.mlp.fc2.lora_B.default.weight', 'base_model.model.model.visual.blocks.22.attn.qkv.lora_A.default.weight', 'base_model.model.model.visual.blocks.22.attn.qkv.lora_B.default.weight', 'base_model.model.model.visual.blocks.22.attn.proj.lora_A.default.weight', 'base_model.model.model.visual.blocks.22.attn.proj.lora_B.default.weight', 'base_model.model.model.visual.blocks.22.mlp.fc1.lora_A.default.weight', 'base_model.model.model.visual.blocks.22.mlp.fc1.lora_B.default.weight', 'base_model.model.model.visual.blocks.22.mlp.fc2.lora_A.default.weight', 'base_model.model.model.visual.blocks.22.mlp.fc2.lora_B.default.weight', 'base_model.model.model.visual.blocks.23.attn.qkv.lora_A.default.weight', 'base_model.model.model.visual.blocks.23.attn.qkv.lora_B.default.weight', 'base_model.model.model.visual.blocks.23.attn.proj.lora_A.default.weight', 'base_model.model.model.visual.blocks.23.attn.proj.lora_B.default.weight', 'base_model.model.model.visual.blocks.23.mlp.fc1.lora_A.default.weight', 'base_model.model.model.visual.blocks.23.mlp.fc1.lora_B.default.weight', 'base_model.model.model.visual.blocks.23.mlp.fc2.lora_A.default.weight', 'base_model.model.model.visual.blocks.23.mlp.fc2.lora_B.default.weight', 'base_model.model.model.visual.blocks.24.attn.qkv.lora_A.default.weight', 'base_model.model.model.visual.blocks.24.attn.qkv.lora_B.default.weight', 'base_model.model.model.visual.blocks.24.attn.proj.lora_A.default.weight', 'base_model.model.model.visual.blocks.24.attn.proj.lora_B.default.weight', 'base_model.model.model.visual.blocks.24.mlp.fc1.lora_A.default.weight', 'base_model.model.model.visual.blocks.24.mlp.fc1.lora_B.default.weight', 'base_model.model.model.visual.blocks.24.mlp.fc2.lora_A.default.weight', 'base_model.model.model.visual.blocks.24.mlp.fc2.lora_B.default.weight', 'base_model.model.model.visual.blocks.25.attn.qkv.lora_A.default.weight', 'base_model.model.model.visual.blocks.25.attn.qkv.lora_B.default.weight', 'base_model.model.model.visual.blocks.25.attn.proj.lora_A.default.weight', 'base_model.model.model.visual.blocks.25.attn.proj.lora_B.default.weight', 'base_model.model.model.visual.blocks.25.mlp.fc1.lora_A.default.weight', 'base_model.model.model.visual.blocks.25.mlp.fc1.lora_B.default.weight', 'base_model.model.model.visual.blocks.25.mlp.fc2.lora_A.default.weight', 'base_model.model.model.visual.blocks.25.mlp.fc2.lora_B.default.weight', 'base_model.model.model.visual.blocks.26.attn.qkv.lora_A.default.weight', 'base_model.model.model.visual.blocks.26.attn.qkv.lora_B.default.weight', 'base_model.model.model.visual.blocks.26.attn.proj.lora_A.default.weight', 'base_model.model.model.visual.blocks.26.attn.proj.lora_B.default.weight', 'base_model.model.model.visual.blocks.26.mlp.fc1.lora_A.default.weight', 'base_model.model.model.visual.blocks.26.mlp.fc1.lora_B.default.weight', 'base_model.model.model.visual.blocks.26.mlp.fc2.lora_A.default.weight', 'base_model.model.model.visual.blocks.26.mlp.fc2.lora_B.default.weight', 'base_model.model.model.visual.blocks.27.attn.qkv.lora_A.default.weight', 'base_model.model.model.visual.blocks.27.attn.qkv.lora_B.default.weight', 'base_model.model.model.visual.blocks.27.attn.proj.lora_A.default.weight', 'base_model.model.model.visual.blocks.27.attn.proj.lora_B.default.weight', 'base_model.model.model.visual.blocks.27.mlp.fc1.lora_A.default.weight', 'base_model.model.model.visual.blocks.27.mlp.fc1.lora_B.default.weight', 'base_model.model.model.visual.blocks.27.mlp.fc2.lora_A.default.weight', 'base_model.model.model.visual.blocks.27.mlp.fc2.lora_B.default.weight', 'base_model.model.model.visual.blocks.28.attn.qkv.lora_A.default.weight', 'base_model.model.model.visual.blocks.28.attn.qkv.lora_B.default.weight', 'base_model.model.model.visual.blocks.28.attn.proj.lora_A.default.weight', 'base_model.model.model.visual.blocks.28.attn.proj.lora_B.default.weight', 'base_model.model.model.visual.blocks.28.mlp.fc1.lora_A.default.weight', 'base_model.model.model.visual.blocks.28.mlp.fc1.lora_B.default.weight', 'base_model.model.model.visual.blocks.28.mlp.fc2.lora_A.default.weight', 'base_model.model.model.visual.blocks.28.mlp.fc2.lora_B.default.weight', 'base_model.model.model.visual.blocks.29.attn.qkv.lora_A.default.weight', 'base_model.model.model.visual.blocks.29.attn.qkv.lora_B.default.weight', 'base_model.model.model.visual.blocks.29.attn.proj.lora_A.default.weight', 'base_model.model.model.visual.blocks.29.attn.proj.lora_B.default.weight', 'base_model.model.model.visual.blocks.29.mlp.fc1.lora_A.default.weight', 'base_model.model.model.visual.blocks.29.mlp.fc1.lora_B.default.weight', 'base_model.model.model.visual.blocks.29.mlp.fc2.lora_A.default.weight', 'base_model.model.model.visual.blocks.29.mlp.fc2.lora_B.default.weight', 'base_model.model.model.visual.blocks.30.attn.qkv.lora_A.default.weight', 'base_model.model.model.visual.blocks.30.attn.qkv.lora_B.default.weight', 'base_model.model.model.visual.blocks.30.attn.proj.lora_A.default.weight', 'base_model.model.model.visual.blocks.30.attn.proj.lora_B.default.weight', 'base_model.model.model.visual.blocks.30.mlp.fc1.lora_A.default.weight', 'base_model.model.model.visual.blocks.30.mlp.fc1.lora_B.default.weight', 'base_model.model.model.visual.blocks.30.mlp.fc2.lora_A.default.weight', 'base_model.model.model.visual.blocks.30.mlp.fc2.lora_B.default.weight', 'base_model.model.model.visual.blocks.31.attn.qkv.lora_A.default.weight', 'base_model.model.model.visual.blocks.31.attn.qkv.lora_B.default.weight', 'base_model.model.model.visual.blocks.31.attn.proj.lora_A.default.weight', 'base_model.model.model.visual.blocks.31.attn.proj.lora_B.default.weight', 'base_model.model.model.visual.blocks.31.mlp.fc1.lora_A.default.weight', 'base_model.model.model.visual.blocks.31.mlp.fc1.lora_B.default.weight', 'base_model.model.model.visual.blocks.31.mlp.fc2.lora_A.default.weight', 'base_model.model.model.visual.blocks.31.mlp.fc2.lora_B.default.weight', 'base_model.model.model.visual.merger.mlp.0.lora_A.default.weight', 'base_model.model.model.visual.merger.mlp.0.lora_B.default.weight', 'base_model.model.model.visual.merger.mlp.2.lora_A.default.weight', 'base_model.model.model.visual.merger.mlp.2.lora_B.default.weight'].\n",
            "  warnings.warn(warn_message)\n",
            "[INFO:swift] Create the default_template for the infer_engine\n",
            "[INFO:swift] default_system: 'You are a helpful assistant.'\n",
            "[INFO:swift] max_length: 32768\n",
            "[INFO:swift] response_prefix: ''\n",
            "[INFO:swift] agent_template: hermes\n",
            "[INFO:swift] norm_bbox: norm1000\n",
            "[INFO:swift] Setting ROOT_IMAGE_DIR: None. You can adjust this hyperparameter through the environment variable: `ROOT_IMAGE_DIR`.\n"
          ]
        }
      ]
    },
    {
      "cell_type": "code",
      "source": [
        "req_cfg = RequestConfig(max_tokens=512, temperature=0.3, top_k=20, top_p=0.7, repetition_penalty=1.05)\n",
        "\n",
        "infer_requests = [\n",
        "    InferRequest(messages=[{\n",
        "    \"role\": \"user\",\n",
        "    \"content\": [\n",
        "        {\"type\": \"video\", \"video\": \"https://huggingface.co/datasets/SimulaMet/SoccerChat/resolve/main/videos/MultipleEvents/100037_Shotsontarget--Balloutofplay.mp4\"},\n",
        "        {\"type\": \"text\", \"text\": \"What is shown in the video?\"}\n",
        "    ],\n",
        "}])\n",
        "]\n",
        "resp = engine.infer(infer_requests, req_cfg)\n",
        "print(resp[0].choices[0].message.content)"
      ],
      "metadata": {
        "id": "hz_s_QifxTHA",
        "outputId": "95d3e650-f4f8-41f5-fc81-1ddf4c7101f4",
        "colab": {
          "base_uri": "https://localhost:8080/"
        }
      },
      "execution_count": 4,
      "outputs": [
        {
          "output_type": "stream",
          "name": "stderr",
          "text": [
            "qwen-vl-utils using decord to read video.\n",
            "[INFO:swift] Successfully registered `/usr/local/lib/python3.12/dist-packages/swift/llm/dataset/data/dataset_info.json`.\n"
          ]
        },
        {
          "output_type": "stream",
          "name": "stdout",
          "text": [
            "The video shows a player from the white-jerseyed team attempting to make a pass into the box, but the defense of the blue/red stripe jersey team reacts quickly and clears the ball out of play, resulting in the white-jerseyed team being awarded a corner kick.\n"
          ]
        }
      ]
    },
    {
      "cell_type": "code",
      "source": [
        "from IPython.display import HTML\n",
        "HTML(f\"\"\"<video src=\"https://huggingface.co/datasets/SimulaMet/SoccerChat/resolve/main/videos/MultipleEvents/100037_Shotsontarget--Balloutofplay.mp4\" width=500 controls/>\"\"\")"
      ],
      "metadata": {
        "id": "GPiv2zp4z8Qj",
        "outputId": "cdaffab8-243a-4235-c3f5-469c7fe38b57",
        "colab": {
          "base_uri": "https://localhost:8080/",
          "height": 302
        }
      },
      "execution_count": 6,
      "outputs": [
        {
          "output_type": "execute_result",
          "data": {
            "text/plain": [
              "<IPython.core.display.HTML object>"
            ],
            "text/html": [
              "<video src=\"https://huggingface.co/datasets/SimulaMet/SoccerChat/resolve/main/videos/MultipleEvents/100037_Shotsontarget--Balloutofplay.mp4\" width=500 controls/>"
            ]
          },
          "metadata": {},
          "execution_count": 6
        }
      ]
    }
  ]
}
